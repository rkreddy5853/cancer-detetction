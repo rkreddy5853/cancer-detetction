{
 "cells": [
  {
   "cell_type": "code",
   "execution_count": null,
   "metadata": {},
   "outputs": [
    {
     "name": "stderr",
     "output_type": "stream",
     "text": [
      "Using TensorFlow backend.\n"
     ]
    }
   ],
   "source": [
    "from IPython.display import SVG\n",
    "from keras.utils.vis_utils import model_to_dot\n",
    "from keras.utils import plot_model\n",
    "import tensorflow as tf\n",
    "import keras\n",
    "from PIL import Image,ImageTk\n",
    "import keras.backend as K\n",
    "import numpy as np\n",
    "from keras.layers import Input, Dense, Activation, ZeroPadding2D, Flatten, Conv2D\n",
    "from keras.layers import MaxPooling2D\n",
    "from keras import metrics\n",
    "from keras.wrappers.scikit_learn import KerasClassifier\n",
    "from keras.applications.imagenet_utils import preprocess_input\n",
    "from keras.models import Model\n",
    "from keras.preprocessing import image as image1\n",
    "from keras.models import load_model\n",
    "K.set_image_data_format('channels_last')\n",
    "from matplotlib.pyplot import imshow\n",
    "import os\n",
    "class system:\n",
    "    classes=[]\n",
    "    @staticmethod\n",
    "    def pre_process(fname):\n",
    "        if (fname == 'b'):\n",
    "            return [1, 0, 0, 0]\n",
    "        elif (fname == 'is'):\n",
    "            return [0, 1, 0, 0]\n",
    "        elif (fname == 'iv'):\n",
    "            return [0, 0, 1, 0]\n",
    "        else:\n",
    "            return [0, 0, 0, 1]\n",
    "    @staticmethod\n",
    "    def cropimages(img):\n",
    "        z = np.asarray(img, dtype=np.int8)\n",
    "        c = []\n",
    "        for i in range(3):\n",
    "            for j in range(4):\n",
    "                crop = z[512 * i:512 * (i + 1), 512 * j:512 * (j + 1), :]\n",
    "                c.append(crop)\n",
    "        return c\n",
    "    @staticmethod\n",
    "    def uploadimages(path):\n",
    "        x = []\n",
    "        y = []\n",
    "        cnt = 0\n",
    "        for foldname in os.listdir(path):\n",
    "            for filename in os.listdir(os.path.join(path, foldname)):\n",
    "                img = Image.open(os.path.join(os.path.join(path, foldname), filename))\n",
    "                crpImgs = system.cropimages(img)\n",
    "                cnt += 1\n",
    "                if cnt % 10 == 0:\n",
    "                    print(str(cnt) + \" Images are loading\")\n",
    "                for im in crpImgs:\n",
    "                    x.append(np.divide(np.asarray(im, np.float16), 255.))\n",
    "                    y.append(pre_process(foldname))\n",
    "        print(\"Images are  cropped\")\n",
    "        print(\"converting images to array\")\n",
    "        return x, y, cnt\n",
    "    @staticmethod\n",
    "    def loadingdatsets(testNum=2):\n",
    "        print(\"Loading data set images..\")\n",
    "        train_set_x_orig, train_set_y_orig, cnt = uploadimages(dataTrainPath)\n",
    "        testNum = 24\n",
    "        trainNum = (cnt * 12) - testNum\n",
    "        print(testNum, trainNum)\n",
    "        train_set_x_orig = np.array(train_set_x_orig, np.float16)\n",
    "        train_set_y_orig = np.array(train_set_y_orig, np.int8)\n",
    "        nshapeX = train_set_x_orig.shape\n",
    "        nshapeY = train_set_y_orig.shape\n",
    "        print(\"folder trainX\" + str(nshapeX))\n",
    "        print(\"folder trainY\" + str(nshapeY))\n",
    "        print(\"Images loaded\")\n",
    "        print(\"Loading all data\")\n",
    "        test_set_x_orig = train_set_x_orig[trainNum:, :, :, :]\n",
    "        train_set_x_orig = train_set_x_orig[0:trainNum, :, :, :]\n",
    "        test_set_y_orig = train_set_y_orig[trainNum:]\n",
    "        train_set_y_orig = train_set_y_orig[0:trainNum]\n",
    "        classes = np.array(os.listdir(dataTrainPath))  \n",
    "        print(train_set_y_orig[0:50, :])\n",
    "        print(train_set_x_orig[1])\n",
    "        print(\"Data load complete\")\n",
    "        return train_set_x_orig, train_set_y_orig, test_set_x_orig, test_set_y_orig, classes\n",
    "    @staticmethod\n",
    "    def definingmodel(input_shape):\n",
    "        X_input = Input(input_shape)\n",
    "        X = Conv2D(16, (3, 3), strides=(1, 1))(X_input) \n",
    "        X = Activation('relu')(X)\n",
    "        X = MaxPooling2D((3, 3), strides=3)(X)  \n",
    "        X = Conv2D(32, (3, 3), strides=(1, 1))(X)\n",
    "        X = Activation('relu')(X)\n",
    "        X = MaxPooling2D((2, 2), strides=2)(X) \n",
    "        X = Conv2D(64, (2, 2), strides=(1, 1))(X)  \n",
    "        X = Activation('relu')(X)\n",
    "        X = ZeroPadding2D(padding=(2, 2))(X)  \n",
    "        X = MaxPooling2D((2, 2), strides=2)(X)  \n",
    "        X = Conv2D(64, (2, 2), strides=(1, 1))(X) \n",
    "        X = Activation('relu')(X)\n",
    "        X = ZeroPadding2D(padding=(2, 2))(X)  \n",
    "        X = MaxPooling2D((3, 3), strides=3)(X)  \n",
    "        X = Conv2D(32, (3, 3), strides=(1, 1))(X)  \n",
    "        X = Activation('relu')(X)\n",
    "        X = Flatten()(X)  # Convert it to FC\n",
    "        X = Dense(256, activation='relu')(X)  \n",
    "        X = Dense(128, activation='relu')(X) \n",
    "        X = Dense(4, activation='softmax')(X)\n",
    "        model = Model(inputs=X_input, outputs=X, name='Model')\n",
    "        return model\n",
    "    @staticmethod\n",
    "    def train(batch_size, epochs):\n",
    "        config = tf.compat.v1.ConfigProto()\n",
    "        sess = tf.compat.v1.Session(config=config)\n",
    "        tf.compat.v1.keras.backend.set_session(sess)\n",
    "        model = definingmodel(X_train.shape[1:])\n",
    "        model.compile('adam', 'categorical_crossentropy', metrics=['accuracy'])\n",
    "        while True:\n",
    "            try:\n",
    "                model = load_model('my_model3.h5')\n",
    "            except:\n",
    "                print(\"Training a new model\")\n",
    "            model.fit(X_train, Y_train, epochs=epochs, batch_size=batch_size) \n",
    "            model.save('my_model3.h5')\n",
    "            preds = model.evaluate(X_test, Y_test_orig, batch_size=1, verbose=1, sample_weight=None)\n",
    "            print(preds)\n",
    "            print()\n",
    "            print(\"Loss = \" + str(preds[0]))\n",
    "            print(\"Test Accuracy = \" + str(preds[1]) + \"\\n\\n\\n\\n\\n\")\n",
    "            ch = input(\"Do you wish to continue training? (y/n) \")\n",
    "            if ch == 'y':\n",
    "                epochs = int(input(\"How many epochs this time? : \"))\n",
    "                continue\n",
    "            else:\n",
    "                break\n",
    "        return model\n",
    "    @staticmethod\n",
    "    def predict(img, savedModelPath, showImg=False):\n",
    "        model = load_model(savedModelPath)\n",
    "        x = img\n",
    "        Image.fromarray(np.array(img, np.float16), 'RGB')\n",
    "        x = np.expand_dims(x, axis=0)\n",
    "\n",
    "        softMaxPred = model.predict(x)\n",
    "\n",
    "        probs = system.softmaxToProbs(softMaxPred)\n",
    "        maxprob = 0\n",
    "        maxI = 0\n",
    "        for j in range(len(probs)):\n",
    "            if probs[j] > maxprob:\n",
    "                maxprob = probs[j]\n",
    "                maxI = j\n",
    "        return maxI, probs\n",
    "    @staticmethod\n",
    "    def softmaxToProbs(soft):\n",
    "        z_exp = [np.math.exp(i) for i in soft[0]]\n",
    "        sum_z_exp = sum(z_exp)\n",
    "        return [(i / sum_z_exp) * 100 for i in z_exp]\n",
    "    @staticmethod\n",
    "    def predictImage(img_path='my_image.jpg', arrayImg=None, printData=False):\n",
    "        crops = []\n",
    "        if arrayImg == None:\n",
    "            img = image1.load_img(img_path)\n",
    "            crops = np.array(system.cropimages(img), np.float16)\n",
    "            crops = np.divide(crops, 255.)\n",
    "        Image.fromarray(np.array(crops[0]), \"RGB\")\n",
    "        classes = []\n",
    "        classes.append(\"Benign\")\n",
    "        classes.append(\"InSitu\")\n",
    "        classes.append(\"Invasive\")\n",
    "        classes.append(\"Normal\")\n",
    "        compProbs = [0,0,0,0]\n",
    "        for i in range(len(crops)):\n",
    "            if printData:\n",
    "                print(\"\\n\\nCrop \" + str(i + 1) + \" prediction:\\n\")\n",
    "            _, probs = system.predict(crops[i], 'my_model3.h5', showImg=False)\n",
    "            for j in range(len(classes)):\n",
    "                if printData:\n",
    "                    print(str(classes[j]) + \" : \" + str(round(probs[j], 4)) + \"%\")\n",
    "                compProbs[j] += probs[j]\n",
    "        root.destroy()\n",
    "        root1=Tk()\n",
    "        root1.title(\"cancer results\")\n",
    "        width, height = root1.winfo_screenwidth(), root1.winfo_screenheight()\n",
    "        root1.geometry('%dx%d+0+0' % (width,height))\n",
    "        image = Image.open('Insitu1.jpg')\n",
    "        image = image.resize((500,400), Image.ANTIALIAS)\n",
    "        my_img = ImageTk.PhotoImage(image)\n",
    "        my_lbl = Label(root1,image = my_img)\n",
    "        my_lbl.place(relx=0.2,rely=0.28)\n",
    "        Label(root1,text=\"REPORT\",font=(\"Arial\",30)).place(relx=0.5,rely=0.1)\n",
    "        Label(root1,text=\"Cancer Test Results\\n\" ,font=(\"Arial\",20)).place(relx=0.6,rely=0.3)\n",
    "        Label(root1,text=str(classes[0]) + \" : \" + str(round(compProbs[0] / 12, 4)) + \"%\" ,font=(\"Arial\",20)).place(relx=0.6,rely=0.4)\n",
    "        Label(root1,text=str(classes[1]) + \" : \" + str(round(compProbs[1] / 12, 4)) + \"%\" ,font=(\"Arial\",20)).place(relx=0.6,rely=0.5)\n",
    "        Label(root1,text=str(classes[2]) + \" : \" + str(round(compProbs[2] / 12, 4)) + \"%\" ,font=(\"Arial\",20)).place(relx=0.6,rely=0.6)\n",
    "        Label(root1,text=str(classes[3]) + \" : \" + str(round(compProbs[3] / 12, 4)) + \"%\",font=(\"Arial\",20)).place(relx=0.6,rely=0.7)\n",
    "        Label(root1,text=\"The type of cancer detected is\"+\" : \"+classes[_],font=(\"Arial\",25)).place(relx=0.3,rely=0.82)\n",
    "        root1.mainloop()\n",
    "class user:\n",
    "    @staticmethod\n",
    "    def cancer_detection():\n",
    "        ch =2\n",
    "        if ch == 1:\n",
    "            try:\n",
    "                classes = np.load('classes.npy')\n",
    "                print(\"Loading\")\n",
    "                X_train = np.load('X_train.npy')\n",
    "                Y_train = np.load('Y_train.npy')\n",
    "                X_test = np.load('X_test.npy')\n",
    "                Y_test_orig = np.load('Y_test_orig.npy')\n",
    "            except:\n",
    "                X_train, Y_train, X_test, Y_test_orig, classes = system.loadingdatsets()\n",
    "                print(\"Saving...\")\n",
    "                np.save('X_train', X_train)\n",
    "                np.save('Y_train', Y_train)\n",
    "                np.save('X_test', X_test)\n",
    "                np.save('Y_test_orig', Y_test_orig)\n",
    "                np.save('classes', classes)\n",
    "\n",
    "            print(\"number of training examples = \" + str(X_train.shape[0]))\n",
    "            print(\"number of test examples = \" + str(X_test.shape[0]))\n",
    "            print(\"X_train shape: \" + str(X_train.shape))\n",
    "            print(\"Y_train shape: \" + str(Y_train.shape))\n",
    "            print(\"X_test shape: \" + str(X_test.shape))\n",
    "            print(\"Y_test shape: \" + str(Y_test_orig.shape))\n",
    "            model = system.train(batch_size=100, epochs=1)\n",
    "\n",
    "        elif ch == 2:\n",
    "                bot=tempdir.name\n",
    "                system.predictImage(img_path=bot)\n",
    "        else:\n",
    "            print(\"Please enter only 1 or 2\")\n",
    "from tkinter import Label,Entry,Button,Tk,filedialog,PhotoImage,Canvas,Toplevel\n",
    "root=Tk()\n",
    "root.title(\"cancer\")\n",
    "width, height = root.winfo_screenwidth(), root.winfo_screenheight()\n",
    "root.geometry('%dx%d+0+0' % (width,height))\n",
    "image = Image.open('nadhi.jpg')\n",
    "image = image.resize((width, height), Image.ANTIALIAS)\n",
    "my_img = ImageTk.PhotoImage(image)\n",
    "my_lbl = Label(image = my_img)\n",
    "my_lbl.place(relx=0,rely=0)\n",
    "Label(root,text=\"Cancer Detection Using Convoluton Neural Networks\",bg='salmon2',font=(\"Arial\",30)).place(relx=0.2,rely=0.3)\n",
    "Label(root,text=\"Click on Browse To Choose Filename\",bg='salmon2',font=(\"Arial\",25)).place(relx=0.2,rely=0.5)\n",
    "Button(root, text = 'browse',bg='ivory2',fg='black',font=(\"Arial\",25),command=lambda:[upload_image(),user.cancer_detection()]).place(relx=0.6,rely=0.489)\n",
    "tempdir=''\n",
    "def upload_image ():\n",
    "    global tempdir\n",
    "    currdir = os.getcwd()\n",
    "    tempdir = filedialog.askopenfile(parent=root,initialdir=\"/\")\n",
    "\n",
    "root.mainloop()"
   ]
  },
  {
   "cell_type": "code",
   "execution_count": null,
   "metadata": {},
   "outputs": [],
   "source": []
  },
  {
   "cell_type": "code",
   "execution_count": null,
   "metadata": {},
   "outputs": [],
   "source": []
  },
  {
   "cell_type": "code",
   "execution_count": null,
   "metadata": {},
   "outputs": [],
   "source": []
  },
  {
   "cell_type": "code",
   "execution_count": null,
   "metadata": {},
   "outputs": [],
   "source": []
  },
  {
   "cell_type": "code",
   "execution_count": null,
   "metadata": {},
   "outputs": [],
   "source": []
  },
  {
   "cell_type": "code",
   "execution_count": null,
   "metadata": {},
   "outputs": [],
   "source": []
  },
  {
   "cell_type": "code",
   "execution_count": null,
   "metadata": {},
   "outputs": [],
   "source": []
  },
  {
   "cell_type": "code",
   "execution_count": null,
   "metadata": {},
   "outputs": [],
   "source": []
  },
  {
   "cell_type": "code",
   "execution_count": null,
   "metadata": {},
   "outputs": [],
   "source": []
  },
  {
   "cell_type": "code",
   "execution_count": null,
   "metadata": {},
   "outputs": [],
   "source": []
  },
  {
   "cell_type": "code",
   "execution_count": null,
   "metadata": {},
   "outputs": [],
   "source": []
  },
  {
   "cell_type": "code",
   "execution_count": null,
   "metadata": {},
   "outputs": [],
   "source": []
  },
  {
   "cell_type": "code",
   "execution_count": null,
   "metadata": {},
   "outputs": [],
   "source": []
  },
  {
   "cell_type": "code",
   "execution_count": null,
   "metadata": {},
   "outputs": [],
   "source": []
  },
  {
   "cell_type": "code",
   "execution_count": null,
   "metadata": {},
   "outputs": [],
   "source": []
  },
  {
   "cell_type": "code",
   "execution_count": null,
   "metadata": {},
   "outputs": [],
   "source": []
  },
  {
   "cell_type": "code",
   "execution_count": null,
   "metadata": {},
   "outputs": [],
   "source": []
  },
  {
   "cell_type": "code",
   "execution_count": null,
   "metadata": {},
   "outputs": [],
   "source": []
  },
  {
   "cell_type": "code",
   "execution_count": null,
   "metadata": {},
   "outputs": [],
   "source": []
  },
  {
   "cell_type": "code",
   "execution_count": null,
   "metadata": {},
   "outputs": [],
   "source": []
  },
  {
   "cell_type": "code",
   "execution_count": null,
   "metadata": {},
   "outputs": [],
   "source": []
  },
  {
   "cell_type": "code",
   "execution_count": null,
   "metadata": {},
   "outputs": [],
   "source": []
  },
  {
   "cell_type": "code",
   "execution_count": null,
   "metadata": {},
   "outputs": [],
   "source": []
  },
  {
   "cell_type": "code",
   "execution_count": null,
   "metadata": {},
   "outputs": [],
   "source": []
  },
  {
   "cell_type": "code",
   "execution_count": null,
   "metadata": {},
   "outputs": [],
   "source": []
  },
  {
   "cell_type": "code",
   "execution_count": null,
   "metadata": {},
   "outputs": [],
   "source": []
  },
  {
   "cell_type": "code",
   "execution_count": null,
   "metadata": {},
   "outputs": [],
   "source": []
  },
  {
   "cell_type": "code",
   "execution_count": null,
   "metadata": {},
   "outputs": [],
   "source": []
  },
  {
   "cell_type": "code",
   "execution_count": null,
   "metadata": {},
   "outputs": [],
   "source": []
  },
  {
   "cell_type": "code",
   "execution_count": null,
   "metadata": {},
   "outputs": [],
   "source": []
  },
  {
   "cell_type": "code",
   "execution_count": null,
   "metadata": {},
   "outputs": [],
   "source": []
  },
  {
   "cell_type": "code",
   "execution_count": null,
   "metadata": {},
   "outputs": [],
   "source": []
  },
  {
   "cell_type": "code",
   "execution_count": null,
   "metadata": {},
   "outputs": [],
   "source": []
  },
  {
   "cell_type": "code",
   "execution_count": null,
   "metadata": {},
   "outputs": [],
   "source": []
  },
  {
   "cell_type": "code",
   "execution_count": 1,
   "metadata": {},
   "outputs": [
    {
     "ename": "SyntaxError",
     "evalue": "invalid syntax (<ipython-input-1-dfbaea1867ea>, line 2)",
     "output_type": "error",
     "traceback": [
      "\u001b[1;36m  File \u001b[1;32m\"<ipython-input-1-dfbaea1867ea>\"\u001b[1;36m, line \u001b[1;32m2\u001b[0m\n\u001b[1;33m    from tkinter import\u001b[0m\n\u001b[1;37m                        ^\u001b[0m\n\u001b[1;31mSyntaxError\u001b[0m\u001b[1;31m:\u001b[0m invalid syntax\n"
     ]
    }
   ],
   "source": [
    "import tkinter\n",
    "from tkinter import \n",
    "import os\n",
    "\n",
    "root = tkinter.Tk()\n",
    "root.withdraw() #use to hide tkinter window\n",
    "\n",
    "def search_for_file_path ():\n",
    "    currdir = os.getcwd()\n",
    "    tempdir = filedialog.askdirectory(parent=root, initialdir=currdir, title='Please select a directory')\n",
    "    if len(tempdir) > 0:\n",
    "        print (\"You chose: %s\" % tempdir)\n",
    "    return tempdir\n",
    "\n",
    "\n",
    "file_path_variable = search_for_file_path()\n",
    "print (file_path_variable)"
   ]
  },
  {
   "cell_type": "code",
   "execution_count": null,
   "metadata": {},
   "outputs": [],
   "source": []
  },
  {
   "cell_type": "code",
   "execution_count": null,
   "metadata": {},
   "outputs": [],
   "source": []
  },
  {
   "cell_type": "code",
   "execution_count": null,
   "metadata": {},
   "outputs": [],
   "source": []
  },
  {
   "cell_type": "code",
   "execution_count": null,
   "metadata": {},
   "outputs": [],
   "source": []
  },
  {
   "cell_type": "code",
   "execution_count": null,
   "metadata": {},
   "outputs": [],
   "source": []
  },
  {
   "cell_type": "code",
   "execution_count": null,
   "metadata": {},
   "outputs": [],
   "source": []
  },
  {
   "cell_type": "code",
   "execution_count": null,
   "metadata": {},
   "outputs": [],
   "source": []
  },
  {
   "cell_type": "code",
   "execution_count": null,
   "metadata": {},
   "outputs": [],
   "source": []
  },
  {
   "cell_type": "code",
   "execution_count": null,
   "metadata": {},
   "outputs": [],
   "source": []
  },
  {
   "cell_type": "code",
   "execution_count": null,
   "metadata": {},
   "outputs": [],
   "source": []
  },
  {
   "cell_type": "code",
   "execution_count": null,
   "metadata": {},
   "outputs": [],
   "source": []
  },
  {
   "cell_type": "code",
   "execution_count": null,
   "metadata": {},
   "outputs": [],
   "source": []
  },
  {
   "cell_type": "code",
   "execution_count": null,
   "metadata": {},
   "outputs": [],
   "source": []
  },
  {
   "cell_type": "code",
   "execution_count": null,
   "metadata": {},
   "outputs": [],
   "source": []
  },
  {
   "cell_type": "code",
   "execution_count": null,
   "metadata": {},
   "outputs": [],
   "source": []
  },
  {
   "cell_type": "code",
   "execution_count": null,
   "metadata": {},
   "outputs": [],
   "source": []
  },
  {
   "cell_type": "code",
   "execution_count": null,
   "metadata": {},
   "outputs": [],
   "source": []
  },
  {
   "cell_type": "code",
   "execution_count": null,
   "metadata": {},
   "outputs": [],
   "source": []
  },
  {
   "cell_type": "code",
   "execution_count": null,
   "metadata": {},
   "outputs": [],
   "source": []
  },
  {
   "cell_type": "code",
   "execution_count": null,
   "metadata": {},
   "outputs": [],
   "source": []
  },
  {
   "cell_type": "code",
   "execution_count": null,
   "metadata": {},
   "outputs": [],
   "source": []
  },
  {
   "cell_type": "code",
   "execution_count": null,
   "metadata": {},
   "outputs": [],
   "source": []
  },
  {
   "cell_type": "code",
   "execution_count": null,
   "metadata": {},
   "outputs": [],
   "source": []
  },
  {
   "cell_type": "code",
   "execution_count": null,
   "metadata": {},
   "outputs": [],
   "source": []
  },
  {
   "cell_type": "code",
   "execution_count": null,
   "metadata": {},
   "outputs": [],
   "source": []
  },
  {
   "cell_type": "code",
   "execution_count": null,
   "metadata": {},
   "outputs": [],
   "source": []
  },
  {
   "cell_type": "code",
   "execution_count": null,
   "metadata": {},
   "outputs": [],
   "source": []
  },
  {
   "cell_type": "code",
   "execution_count": null,
   "metadata": {},
   "outputs": [],
   "source": []
  },
  {
   "cell_type": "code",
   "execution_count": null,
   "metadata": {},
   "outputs": [],
   "source": []
  },
  {
   "cell_type": "code",
   "execution_count": null,
   "metadata": {},
   "outputs": [],
   "source": []
  },
  {
   "cell_type": "code",
   "execution_count": null,
   "metadata": {},
   "outputs": [],
   "source": []
  },
  {
   "cell_type": "code",
   "execution_count": null,
   "metadata": {},
   "outputs": [],
   "source": []
  },
  {
   "cell_type": "code",
   "execution_count": null,
   "metadata": {},
   "outputs": [],
   "source": []
  },
  {
   "cell_type": "code",
   "execution_count": null,
   "metadata": {},
   "outputs": [],
   "source": []
  },
  {
   "cell_type": "code",
   "execution_count": null,
   "metadata": {},
   "outputs": [],
   "source": []
  },
  {
   "cell_type": "code",
   "execution_count": null,
   "metadata": {},
   "outputs": [],
   "source": []
  },
  {
   "cell_type": "code",
   "execution_count": null,
   "metadata": {},
   "outputs": [],
   "source": []
  },
  {
   "cell_type": "code",
   "execution_count": null,
   "metadata": {},
   "outputs": [],
   "source": []
  },
  {
   "cell_type": "code",
   "execution_count": null,
   "metadata": {},
   "outputs": [],
   "source": []
  },
  {
   "cell_type": "code",
   "execution_count": null,
   "metadata": {},
   "outputs": [],
   "source": []
  },
  {
   "cell_type": "code",
   "execution_count": null,
   "metadata": {},
   "outputs": [],
   "source": []
  },
  {
   "cell_type": "code",
   "execution_count": null,
   "metadata": {},
   "outputs": [],
   "source": []
  },
  {
   "cell_type": "code",
   "execution_count": null,
   "metadata": {},
   "outputs": [],
   "source": []
  },
  {
   "cell_type": "code",
   "execution_count": null,
   "metadata": {},
   "outputs": [],
   "source": []
  },
  {
   "cell_type": "code",
   "execution_count": null,
   "metadata": {},
   "outputs": [],
   "source": []
  },
  {
   "cell_type": "code",
   "execution_count": null,
   "metadata": {},
   "outputs": [],
   "source": []
  },
  {
   "cell_type": "code",
   "execution_count": null,
   "metadata": {},
   "outputs": [],
   "source": []
  },
  {
   "cell_type": "code",
   "execution_count": null,
   "metadata": {},
   "outputs": [],
   "source": []
  },
  {
   "cell_type": "code",
   "execution_count": null,
   "metadata": {},
   "outputs": [],
   "source": []
  },
  {
   "cell_type": "code",
   "execution_count": null,
   "metadata": {},
   "outputs": [],
   "source": []
  },
  {
   "cell_type": "code",
   "execution_count": null,
   "metadata": {},
   "outputs": [],
   "source": []
  },
  {
   "cell_type": "code",
   "execution_count": null,
   "metadata": {},
   "outputs": [],
   "source": []
  },
  {
   "cell_type": "code",
   "execution_count": null,
   "metadata": {},
   "outputs": [],
   "source": []
  },
  {
   "cell_type": "code",
   "execution_count": null,
   "metadata": {},
   "outputs": [],
   "source": []
  },
  {
   "cell_type": "code",
   "execution_count": null,
   "metadata": {},
   "outputs": [],
   "source": []
  },
  {
   "cell_type": "code",
   "execution_count": null,
   "metadata": {},
   "outputs": [],
   "source": []
  },
  {
   "cell_type": "code",
   "execution_count": null,
   "metadata": {},
   "outputs": [],
   "source": []
  },
  {
   "cell_type": "code",
   "execution_count": null,
   "metadata": {},
   "outputs": [],
   "source": []
  },
  {
   "cell_type": "code",
   "execution_count": null,
   "metadata": {},
   "outputs": [],
   "source": []
  },
  {
   "cell_type": "code",
   "execution_count": null,
   "metadata": {},
   "outputs": [],
   "source": []
  },
  {
   "cell_type": "code",
   "execution_count": null,
   "metadata": {},
   "outputs": [],
   "source": []
  },
  {
   "cell_type": "code",
   "execution_count": null,
   "metadata": {},
   "outputs": [],
   "source": []
  },
  {
   "cell_type": "code",
   "execution_count": null,
   "metadata": {},
   "outputs": [],
   "source": []
  },
  {
   "cell_type": "code",
   "execution_count": null,
   "metadata": {},
   "outputs": [],
   "source": []
  },
  {
   "cell_type": "code",
   "execution_count": null,
   "metadata": {},
   "outputs": [],
   "source": []
  },
  {
   "cell_type": "code",
   "execution_count": null,
   "metadata": {},
   "outputs": [],
   "source": []
  },
  {
   "cell_type": "code",
   "execution_count": null,
   "metadata": {},
   "outputs": [],
   "source": []
  },
  {
   "cell_type": "code",
   "execution_count": null,
   "metadata": {},
   "outputs": [],
   "source": []
  },
  {
   "cell_type": "code",
   "execution_count": null,
   "metadata": {},
   "outputs": [],
   "source": []
  },
  {
   "cell_type": "code",
   "execution_count": null,
   "metadata": {},
   "outputs": [],
   "source": []
  },
  {
   "cell_type": "code",
   "execution_count": null,
   "metadata": {},
   "outputs": [],
   "source": []
  },
  {
   "cell_type": "code",
   "execution_count": null,
   "metadata": {},
   "outputs": [],
   "source": []
  },
  {
   "cell_type": "code",
   "execution_count": null,
   "metadata": {},
   "outputs": [],
   "source": []
  },
  {
   "cell_type": "code",
   "execution_count": null,
   "metadata": {},
   "outputs": [],
   "source": []
  },
  {
   "cell_type": "code",
   "execution_count": null,
   "metadata": {},
   "outputs": [],
   "source": []
  },
  {
   "cell_type": "code",
   "execution_count": null,
   "metadata": {},
   "outputs": [],
   "source": []
  },
  {
   "cell_type": "code",
   "execution_count": null,
   "metadata": {},
   "outputs": [],
   "source": []
  },
  {
   "cell_type": "code",
   "execution_count": null,
   "metadata": {},
   "outputs": [],
   "source": []
  },
  {
   "cell_type": "code",
   "execution_count": null,
   "metadata": {},
   "outputs": [],
   "source": []
  },
  {
   "cell_type": "code",
   "execution_count": null,
   "metadata": {},
   "outputs": [],
   "source": []
  },
  {
   "cell_type": "code",
   "execution_count": null,
   "metadata": {},
   "outputs": [],
   "source": []
  }
 ],
 "metadata": {
  "kernelspec": {
   "display_name": "Python 3",
   "language": "python",
   "name": "python3"
  },
  "language_info": {
   "codemirror_mode": {
    "name": "ipython",
    "version": 3
   },
   "file_extension": ".py",
   "mimetype": "text/x-python",
   "name": "python",
   "nbconvert_exporter": "python",
   "pygments_lexer": "ipython3",
   "version": "3.7.4"
  }
 },
 "nbformat": 4,
 "nbformat_minor": 2
}
